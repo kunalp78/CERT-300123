{
 "cells": [
  {
   "cell_type": "code",
   "execution_count": null,
   "id": "befd6309",
   "metadata": {},
   "outputs": [],
   "source": [
    "import json\n",
    "from json import JSONDecodeError\n",
    "# Register:\n",
    "\"\"\"\n",
    "[{\n",
    "    \"name\": \"Krishna\",\n",
    "    \"user_id\": 123,\n",
    "    \"password\": \"password\",\n",
    "    \"age\": 24,\n",
    "    \"mail_id\": \"abc@gmail.com\",\n",
    "    \"phone\": 1234567890,\n",
    "    \"location\": \"India\",\n",
    "    \"booked_shows\": []\n",
    "},{},{},...]\n",
    "\"\"\"\n",
    "def register(user_json, user_id, name, password, age, mail_id, phone, location):\n",
    "    \"\"\"\n",
    "    Register the user based on the param values provided.\n",
    "    \n",
    "    return value:\n",
    "        it returns true on successful registration\n",
    "        it returns false on unsuccessful registration\n",
    "    \"\"\"\n",
    "    d = {\n",
    "        \"user_id\": user_id,\n",
    "        \"name\": name,\n",
    "        \"password\": password,\n",
    "        \"age\": age,\n",
    "        \"mail id\": mail_id,\n",
    "        \"phone\": phone,\n",
    "        \"location\": location,\n",
    "        \"booked shows\": []\n",
    "    }\n",
    "    f = open(user_json, \"r+\")\n",
    "    try:\n",
    "        content = json.load(f)\n",
    "        if d not in content:\n",
    "            content.append(d)\n",
    "            f.seek(0)\n",
    "            f.truncate()\n",
    "            json.dump(content, f)\n",
    "            f.close()\n",
    "            return True\n",
    "    except JSONDecodeError as err:\n",
    "        l = []\n",
    "        l.append(d)\n",
    "        json.dump(l, f)\n",
    "        return True\n",
    "    f.close()\n",
    "    return False\n",
    "\n",
    "# Add show\n",
    "\"\"\"\n",
    "[{\n",
    "\"movie_id\": \"12548\",\n",
    "\"movie_name\": \"Taare Zameen Par\",\n",
    "\"seating\": \"25\",\n",
    "\"price\": \"25$\",\n",
    "\"booked_seats\": []\n",
    "}]\n",
    "\n",
    "Seating arrangement:\n",
    "  A  B  C  D  E\n",
    "1 A1 B1 C1 D1 E1\n",
    "2 A2 B2 C2 D2 E2\n",
    "3 A3 B3 C3 D3 E3\n",
    "4 A4 B4 C4 D4 E4\n",
    "5 A5 B5 C5 D5 E5\n",
    "\"\"\"\n",
    "def add_show(show_json, show_id, show_name, duration, price):\n",
    "    \"\"\"\n",
    "    adding the show unit\n",
    "    \n",
    "    return values:\n",
    "        return True if show unit was added\n",
    "        return False if show unit already existed\n",
    "    \"\"\"\n",
    "    d1 = {\n",
    "        \"movie id\": show_id,\n",
    "        \"movie name\": show_name,\n",
    "        \"seating\": 25,\n",
    "        \"price\": price,\n",
    "        \"booked_seats\": []\n",
    "    }\n",
    "    f = open(show_json, \"r+\")\n",
    "    try:\n",
    "        content = json.load(f)\n",
    "        if d1 in content:\n",
    "            print(\"Show already available!!\")\n",
    "            return False\n",
    "        content.append(d1)\n",
    "        f.seek(0)\n",
    "        f.truncate()\n",
    "        json.dump(content, f)\n",
    "    except JSONDecodeError:\n",
    "        l = []\n",
    "        l.append(d1)\n",
    "        json.dump(l, f)\n",
    "    f.close()\n",
    "    return True\n",
    "\n",
    "def book_ticket(show_json, user_json, usr_id, tkt_id, no_of_booking, preferred_seat = []):\n",
    "    \"\"\"\n",
    "    [{\n",
    "    \"movie_id\": \"123548\",\n",
    "    \"movie name\": \"interstellar\",\n",
    "    }]\n",
    "    \"\"\"\n",
    "    number_of_seat = 25\n",
    "    # open the user json\n",
    "    f1 = open(user_json, \"r+\")\n",
    "    content1 = json.load(f1)\n",
    "    count = 0\n",
    "    for i in range(len(content1)):\n",
    "        if content1[i][\"user_id\"] == usr_id:\n",
    "            user = content1[i]\n",
    "            count+=1\n",
    "    if count == 0:\n",
    "        return False\n",
    "    \n",
    "    # open the show json\n",
    "    f = open(show_json, \"r+\")\n",
    "    content = json.load(f)\n",
    "    count = 0\n",
    "    for i range(len(content)):\n",
    "        if content[i][\"movie id\"] == tkt_id:\n",
    "            movie_show = content[i]\n",
    "            seat_av = len(movie_show[\"booked_seats\"])\n",
    "            number_of_seat = 25 - seat_av\n",
    "            count+=1\n",
    "    if count == 0:\n",
    "        return False\n",
    "    if number_of_seat == 0:\n",
    "        print(\"House Full!!\")\n",
    "        return False\n",
    "    \n",
    "    #   A  B  C  D  E\n",
    "    # 1 A1 B1 C1 D1 E1\n",
    "    # 2 A2 B2 C2 D2 E2\n",
    "    # 3 A3 B3 C3 D3 E3\n",
    "    # 4 A4 B4 C4 D4 E4\n",
    "    # 5 A5 B5 C5 D5 E5\n",
    "    \n",
    "    # Recollect the available seats\n",
    "    seats = []\n",
    "    for col in range(1, 6):\n",
    "        for row in range(ord(\"A\"), ord(\"E\")+1):\n",
    "            if chr(row)+str(col) not in movie_show[\"booked_seats\"]:\n",
    "                seats.append(chr(row)+str(col))\n",
    "    # Booking Process\n",
    "    if number_of_seat >= no_of_booking:\n",
    "        for i in preferred_seat:\n",
    "            if i not in seats:\n",
    "                return False\n",
    "        if preferred_seat:\n",
    "            movie_show[\"booked_seats\"].extend(preferred_seat)\n",
    "            user[\"booked shows\"].append(tkt_id)\n",
    "        else:\n",
    "            movie_show[\"booked_seats\"].extend(seats[:no_of_booking])\n",
    "            user[\"booked shows\"].append(tkt_id)\n",
    "    else:\n",
    "        return False\n",
    "    \n",
    "    # update the values in user_json\n",
    "    for i in range(len(content1)):\n",
    "        if content1[i][\"user_id\"] ==usr_id:\n",
    "            content1[i][\"booked shows\"] = user[\"booked shows\"]\n",
    "            f1.seek(0)\n",
    "            f1.truncate()\n",
    "            json.dump(content1, f1)\n",
    "            f1.close()\n",
    "    \n",
    "    # update the value for the show_json\n",
    "    for i in range(len(content)):\n",
    "        if content[i][\"movie id\"] == tkt_id:\n",
    "            content[i][\"booked_seats\"] = movie_show[\"booked_seats\"]\n",
    "            f.seek(0)\n",
    "            f.truncate()\n",
    "            json.dump(content, f)\n",
    "            f.close()\n",
    "    return True\n",
    "\n",
    "def show_seats(show_json, tkt_id):\n",
    "    \"\"\"\n",
    "    this function will show the available seats to user\n",
    "    \"\"\"\n",
    "    f = open(show_json, \"r+\")\n",
    "    content = json.load(f)\n",
    "    count = 0\n",
    "    for i range(len(content)):\n",
    "        if content[i][\"movie id\"] == tkt_id:\n",
    "            movie_show = content[i]\n",
    "            seat_av = len(movie_show[\"booked_seats\"])\n",
    "            number_of_seat = 25 - seat_av\n",
    "            count+=1\n",
    "    if count == 0:\n",
    "        return False\n",
    "    \n",
    "    for col in range(1,6):\n",
    "        for row in range(ord(\"A\"), ord(\"E\")+1):\n",
    "            if chr(row)+str(col) not in movie_show[\"booked_seats\"]:\n",
    "                print(chr(row)+str(col), end=\" \")\n",
    "            else:\n",
    "                print(\"B\", end=\"  \")\n",
    "        print()\n",
    "\n",
    "def login(user_json, user_id, password):\n",
    "    \"\"\"\n",
    "    Login Process \n",
    "    \"\"\"\n",
    "    f = open(user_json, \"r+\")\n",
    "    try:\n",
    "        content=json.load(f)\n",
    "    except JSONDecodeError:\n",
    "        return False\n",
    "    f.close()\n",
    "    d = 0\n",
    "    for i in range(len(content)):\n",
    "        if content[i][\"mail id\"] == user_id and content[i][\"password\"] == password:\n",
    "            d = 1\n",
    "            break\n",
    "    if d == 1:\n",
    "        return True\n",
    "    else:\n",
    "        return False"
   ]
  },
  {
   "cell_type": "code",
   "execution_count": 1,
   "id": "322607bc",
   "metadata": {},
   "outputs": [
    {
     "name": "stdout",
     "output_type": "stream",
     "text": [
      "{'d': 1} 0\n",
      "{'d': 2} 1\n"
     ]
    }
   ],
   "source": [
    "l = [{\"d\":1}, {\"d\": 2}]\n",
    "for i in range(len(l)):\n",
    "    print(l[i], i)"
   ]
  },
  {
   "cell_type": "code",
   "execution_count": 4,
   "id": "7fe203b9",
   "metadata": {},
   "outputs": [
    {
     "name": "stdout",
     "output_type": "stream",
     "text": [
      "A B C D E F G H I J K L M N O P Q R S T U V W X Y Z "
     ]
    }
   ],
   "source": [
    "\"A -Z\"\n",
    "for i in range(ord(\"A\"), ord(\"Z\")+1):\n",
    "    print(chr(i), end=\" \")"
   ]
  },
  {
   "cell_type": "code",
   "execution_count": 5,
   "id": "f2ba677b",
   "metadata": {},
   "outputs": [
    {
     "ename": "TypeError",
     "evalue": "'str' object cannot be interpreted as an integer",
     "output_type": "error",
     "traceback": [
      "\u001b[1;31m---------------------------------------------------------------------------\u001b[0m",
      "\u001b[1;31mTypeError\u001b[0m                                 Traceback (most recent call last)",
      "\u001b[1;32mC:\\Users\\KUNALC~1\\AppData\\Local\\Temp/ipykernel_11748/1405638862.py\u001b[0m in \u001b[0;36m<module>\u001b[1;34m\u001b[0m\n\u001b[1;32m----> 1\u001b[1;33m \u001b[0mrange\u001b[0m\u001b[1;33m(\u001b[0m\u001b[1;34m\"A\"\u001b[0m\u001b[1;33m,\u001b[0m\u001b[1;34m\"Z\"\u001b[0m\u001b[1;33m)\u001b[0m\u001b[1;33m\u001b[0m\u001b[1;33m\u001b[0m\u001b[0m\n\u001b[0m",
      "\u001b[1;31mTypeError\u001b[0m: 'str' object cannot be interpreted as an integer"
     ]
    }
   ],
   "source": [
    "range(\"A\",\"Z\")"
   ]
  },
  {
   "cell_type": "code",
   "execution_count": 6,
   "id": "70b5b6b9",
   "metadata": {},
   "outputs": [
    {
     "ename": "TypeError",
     "evalue": "'float' object cannot be interpreted as an integer",
     "output_type": "error",
     "traceback": [
      "\u001b[1;31m---------------------------------------------------------------------------\u001b[0m",
      "\u001b[1;31mTypeError\u001b[0m                                 Traceback (most recent call last)",
      "\u001b[1;32mC:\\Users\\KUNALC~1\\AppData\\Local\\Temp/ipykernel_11748/3424657453.py\u001b[0m in \u001b[0;36m<module>\u001b[1;34m\u001b[0m\n\u001b[1;32m----> 1\u001b[1;33m \u001b[0mrange\u001b[0m\u001b[1;33m(\u001b[0m\u001b[1;36m1.0\u001b[0m\u001b[1;33m,\u001b[0m\u001b[1;36m2.0\u001b[0m\u001b[1;33m)\u001b[0m\u001b[1;33m\u001b[0m\u001b[1;33m\u001b[0m\u001b[0m\n\u001b[0m",
      "\u001b[1;31mTypeError\u001b[0m: 'float' object cannot be interpreted as an integer"
     ]
    }
   ],
   "source": [
    "range(1.0,2.0)"
   ]
  },
  {
   "cell_type": "code",
   "execution_count": 9,
   "id": "a40537b1",
   "metadata": {},
   "outputs": [
    {
     "data": {
      "text/plain": [
       "[1, 2]"
      ]
     },
     "execution_count": 9,
     "metadata": {},
     "output_type": "execute_result"
    }
   ],
   "source": [
    "list(range(1,2+1))"
   ]
  },
  {
   "cell_type": "code",
   "execution_count": 10,
   "id": "12a3e7ee",
   "metadata": {},
   "outputs": [
    {
     "data": {
      "text/plain": [
       "(1, 2)"
      ]
     },
     "execution_count": 10,
     "metadata": {},
     "output_type": "execute_result"
    }
   ],
   "source": [
    "tuple(range(1,2+1))"
   ]
  },
  {
   "cell_type": "code",
   "execution_count": 11,
   "id": "c972017e",
   "metadata": {},
   "outputs": [
    {
     "data": {
      "text/plain": [
       "{1, 2}"
      ]
     },
     "execution_count": 11,
     "metadata": {},
     "output_type": "execute_result"
    }
   ],
   "source": [
    "set(range(1,2+1))"
   ]
  },
  {
   "cell_type": "code",
   "execution_count": 17,
   "id": "70bd0ad1",
   "metadata": {},
   "outputs": [
    {
     "name": "stdout",
     "output_type": "stream",
     "text": [
      "A1 B1 C1  B  B \n",
      "A2 B2 C2 D2 E2 \n",
      "A3 B3 C3 D3 E3 \n",
      "A4 B4 C4 D4 E4 \n",
      " B  B C5 D5 E5 \n"
     ]
    }
   ],
   "source": [
    "booked_seat = [\"D1\", \"E1\", \"A5\", \"B5\"]\n",
    "for col in range(1,6):\n",
    "    for row in range(ord(\"A\"), ord(\"E\")+1):\n",
    "        if chr(row)+str(col) not in booked_seat:\n",
    "            print(chr(row)+str(col), end=\" \")\n",
    "        else:\n",
    "            print(\" B\", end=\" \")\n",
    "    print()"
   ]
  },
  {
   "cell_type": "code",
   "execution_count": null,
   "id": "00cfcde4",
   "metadata": {},
   "outputs": [],
   "source": []
  }
 ],
 "metadata": {
  "kernelspec": {
   "display_name": "Python 3 (ipykernel)",
   "language": "python",
   "name": "python3"
  },
  "language_info": {
   "codemirror_mode": {
    "name": "ipython",
    "version": 3
   },
   "file_extension": ".py",
   "mimetype": "text/x-python",
   "name": "python",
   "nbconvert_exporter": "python",
   "pygments_lexer": "ipython3",
   "version": "3.9.7"
  }
 },
 "nbformat": 4,
 "nbformat_minor": 5
}
