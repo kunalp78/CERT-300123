{
 "cells": [
  {
   "cell_type": "markdown",
   "id": "a9b286a2",
   "metadata": {},
   "source": [
    "Basic replica of Book My Show\n",
    "\n",
    "1. Cinema or movie\n",
    "2. seats, single, screen theatre, food, user\n",
    "3. functionality -> Register user, Login, book shows, add the show"
   ]
  },
  {
   "cell_type": "code",
   "execution_count": 28,
   "id": "ee075285",
   "metadata": {},
   "outputs": [],
   "source": [
    "import json\n",
    "from json import JSONDecodeError\n",
    "# Register:\n",
    "\"\"\"\n",
    "[{\n",
    "    \"name\": \"Krishna\",\n",
    "    \"user_id\": 123,\n",
    "    \"password\": \"password\",\n",
    "    \"age\": 24,\n",
    "    \"mail_id\": \"abc@gmail.com\",\n",
    "    \"phone\": 1234567890,\n",
    "    \"location\": \"India\",\n",
    "    \"booked_shows\": []\n",
    "},{},{},...]\n",
    "\"\"\"\n",
    "def register(user_json, user_id, name, password, age, mail_id, phone, location):\n",
    "    \"\"\"\n",
    "    Register the user based on the param values provided.\n",
    "    \n",
    "    return value:\n",
    "        it returns true on successful registration\n",
    "        it returns false on unsuccessful registration\n",
    "    \"\"\"\n",
    "    d = {\n",
    "        \"user_id\": user_id,\n",
    "        \"name\": name,\n",
    "        \"password\": password,\n",
    "        \"age\": age,\n",
    "        \"mail id\": mail_id,\n",
    "        \"phone\": phone,\n",
    "        \"location\": location,\n",
    "        \"booked shows\": []\n",
    "    }\n",
    "    f = open(user_json, \"r+\")\n",
    "    try:\n",
    "        content = json.load(f)\n",
    "        if d not in content:\n",
    "            content.append(d)\n",
    "            f.seek(0)\n",
    "            f.truncate()\n",
    "            json.dump(content, f)\n",
    "            f.close()\n",
    "            return True\n",
    "    except JSONDecodeError as err:\n",
    "        l = []\n",
    "        l.append(d)\n",
    "        json.dump(l, f)\n",
    "        return True\n",
    "    f.close()\n",
    "    return False\n",
    "\n",
    "# Add show\n",
    "\"\"\"\n",
    "[{\n",
    "\"movie_id\": \"12548\",\n",
    "\"movie_name\": \"Taare Zameen Par\",\n",
    "\"seating\": \"25\",\n",
    "\"price\": \"25$\",\n",
    "\"booked_seats\": []\n",
    "}]\n",
    "\n",
    "Seating arrangement:\n",
    "  A  B  C  D  E\n",
    "1 A1 B1 C1 D1 E1\n",
    "2 A2 B2 C2 D2 E2\n",
    "3 A3 B3 C3 D3 E3\n",
    "4 A4 B4 C4 D4 E4\n",
    "5 A5 B5 C5 D5 E5\n",
    "\"\"\"\n",
    "def add_show(show_json, show_id, show_name, duration, price):\n",
    "    \"\"\"\n",
    "    adding the show unit\n",
    "    \n",
    "    return values:\n",
    "        return True if show unit was added\n",
    "        return False if show unit already existed\n",
    "    \"\"\"\n",
    "    d1 = {\n",
    "        \"movie id\": show_id,\n",
    "        \"movie name\": show_name,\n",
    "        \"seating\": 25,\n",
    "        \"price\": price,\n",
    "        \"booked_seats\": []\n",
    "    }\n",
    "    f = open(show_json, \"r+\")\n",
    "    try:\n",
    "        content = json.load(f)\n",
    "        if d1 in content:\n",
    "            print(\"Show already available!!\")\n",
    "            return False\n",
    "        content.append(d1)\n",
    "        f.seek(0)\n",
    "        f.truncate()\n",
    "        json.dump(content, f)\n",
    "    except JSONDecodeError:\n",
    "        l = []\n",
    "        l.append(d1)\n",
    "        json.dump(l, f)\n",
    "    f.close()\n",
    "    return True"
   ]
  },
  {
   "cell_type": "code",
   "execution_count": 8,
   "id": "5e57fbca",
   "metadata": {},
   "outputs": [
    {
     "name": "stdout",
     "output_type": "stream",
     "text": [
      "Help on function register in module __main__:\n",
      "\n",
      "register(user_json, user_id, name, password, age, mail_id, phone, location)\n",
      "    Register the user based on the param values provided.\n",
      "    \n",
      "    return value:\n",
      "        it returns true on successful registration\n",
      "        it returns false on unsuccessful registration\n",
      "\n"
     ]
    }
   ],
   "source": [
    "help(register)"
   ]
  },
  {
   "cell_type": "code",
   "execution_count": 20,
   "id": "bdff4e9d",
   "metadata": {},
   "outputs": [
    {
     "data": {
      "text/plain": [
       "True"
      ]
     },
     "execution_count": 20,
     "metadata": {},
     "output_type": "execute_result"
    }
   ],
   "source": [
    "register(\"user1.json\", \"12345\", \"Neha\", \"12345678\", \"24\", \"abc@gmail.com\", \"12358974825\", \"India\")"
   ]
  },
  {
   "cell_type": "code",
   "execution_count": 22,
   "id": "22794b64",
   "metadata": {},
   "outputs": [
    {
     "name": "stdout",
     "output_type": "stream",
     "text": [
      "Help on function add_show in module __main__:\n",
      "\n",
      "add_show(show_json, show_id, show_name, duration, price)\n",
      "    adding the show unit\n",
      "    \n",
      "    return values:\n",
      "        return True if show unit was added\n",
      "        return False if show unit already existed\n",
      "\n"
     ]
    }
   ],
   "source": [
    "help(add_show)"
   ]
  },
  {
   "cell_type": "code",
   "execution_count": 29,
   "id": "585c955e",
   "metadata": {},
   "outputs": [
    {
     "data": {
      "text/plain": [
       "True"
      ]
     },
     "execution_count": 29,
     "metadata": {},
     "output_type": "execute_result"
    }
   ],
   "source": [
    "add_show(\"movie_unit.json\", \"54896\", \"Sholay\", \"3 hours\", \"Rs. 100\")"
   ]
  },
  {
   "cell_type": "code",
   "execution_count": null,
   "id": "283aa01a",
   "metadata": {},
   "outputs": [],
   "source": []
  },
  {
   "cell_type": "code",
   "execution_count": null,
   "id": "abb1e172",
   "metadata": {},
   "outputs": [],
   "source": []
  },
  {
   "cell_type": "code",
   "execution_count": null,
   "id": "5f684896",
   "metadata": {},
   "outputs": [],
   "source": []
  },
  {
   "cell_type": "code",
   "execution_count": 1,
   "id": "9522bd1b",
   "metadata": {},
   "outputs": [
    {
     "data": {
      "text/plain": [
       "True"
      ]
     },
     "execution_count": 1,
     "metadata": {},
     "output_type": "execute_result"
    }
   ],
   "source": [
    "l = [{\"d\":1}, {\"d\": 2}] --> list containg dictionaries\n",
    "d = {\"d\": 1}\n",
    "d in l"
   ]
  },
  {
   "cell_type": "code",
   "execution_count": 2,
   "id": "c027c42d",
   "metadata": {},
   "outputs": [
    {
     "data": {
      "text/plain": [
       "False"
      ]
     },
     "execution_count": 2,
     "metadata": {},
     "output_type": "execute_result"
    }
   ],
   "source": [
    "d1 = {\"d\":3}\n",
    "d1 in l"
   ]
  },
  {
   "cell_type": "code",
   "execution_count": null,
   "id": "dc1637a7",
   "metadata": {},
   "outputs": [],
   "source": []
  },
  {
   "cell_type": "code",
   "execution_count": null,
   "id": "1fff4ac3",
   "metadata": {},
   "outputs": [],
   "source": [
    "book ticket\n",
    "login system\n",
    "menu system"
   ]
  }
 ],
 "metadata": {
  "kernelspec": {
   "display_name": "Python 3 (ipykernel)",
   "language": "python",
   "name": "python3"
  },
  "language_info": {
   "codemirror_mode": {
    "name": "ipython",
    "version": 3
   },
   "file_extension": ".py",
   "mimetype": "text/x-python",
   "name": "python",
   "nbconvert_exporter": "python",
   "pygments_lexer": "ipython3",
   "version": "3.9.7"
  }
 },
 "nbformat": 4,
 "nbformat_minor": 5
}
